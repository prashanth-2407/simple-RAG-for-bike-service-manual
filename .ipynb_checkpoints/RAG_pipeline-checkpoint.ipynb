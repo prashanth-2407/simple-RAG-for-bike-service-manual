{
 "cells": [
  {
   "cell_type": "code",
   "execution_count": 5,
   "id": "7732a52f-051e-459c-bd09-6186dbe4f2da",
   "metadata": {},
   "outputs": [
    {
     "name": "stdout",
     "output_type": "stream",
     "text": [
      "Answer: 1. The bike, model 3-13EAU10411, has a single cylinder engine with a displacement of 155 cm³.\n",
      "2. It is equipped with a liquid-cooled SOHC (Single Overhead Camshaft) engine and uses regular unleaded gasoline (Gasohol [E10] acceptable).\n",
      "3. The bike has a 6-speed constant mesh transmission with a primary reduction ratio of 3.042 and a final drive chain.\n",
      "4. Its dimensions are: overall length - 1990 mm (78.3 in), overall width - 725 mm (28.5 in), overall height - 1135 mm (44.7 in), seat height - 815 mm (32.1 in), wheelbase - 1325 mm (52.2 in), ground clearance - 170 mm (6.69 in), and minimum turning radius - 2.8 m (9.19 ft).\n",
      "5. The bike weighs approximately 137 kg (302 lb) with a fuel tank capacity of 11 L (2.9 US gal, 2.4 Imp.gal) and a reserve amount of 1.9 L (0.50 US gal, 0.42 Imp.gal).\n",
      "6. The spark plug model used is NGK/MR8E9 with a gap of 0.8–0.9 mm (0.031–0.035 in).\n",
      "7. The recommended engine oil for this bike is YAMALUBE SAE viscosity grades: 10W-40, API service SG type or higher, JASO standard MA. The oil change interval is approximately every 6000 km (3728 miles).\n",
      "8. The bike comes with an owner’s tool kit as part of its standard equipment.\n"
     ]
    }
   ],
   "source": [
    "import ollama\n",
    "import faiss\n",
    "import numpy as np\n",
    "from sentence_transformers import SentenceTransformer\n",
    "from typing import List\n",
    "import PyPDF2\n",
    "\n",
    "# Load embedding model\n",
    "embedding_model = SentenceTransformer(\"all-MiniLM-L6-v2\")\n",
    "\n",
    "def extract_text_from_pdf(pdf_path: str) -> List[str]:\n",
    "    \"\"\"Extract text from a PDF file and split it into chunks.\"\"\"\n",
    "    text_chunks = []\n",
    "    with open(pdf_path, \"rb\") as file:\n",
    "        reader = PyPDF2.PdfReader(file)\n",
    "        for page in reader.pages:\n",
    "            text = page.extract_text()\n",
    "            if text:\n",
    "                text_chunks.append(text)\n",
    "    return text_chunks\n",
    "\n",
    "# Load troubleshooting manual from a PDF\n",
    "pdf_path = \"all-new-r15-en.pdf\"  # Replace with actual PDF file\n",
    "manuals = extract_text_from_pdf(pdf_path)\n",
    "\n",
    "# Convert documents to embeddings\n",
    "document_embeddings = embedding_model.encode(manuals)\n",
    "document_embeddings = np.array(document_embeddings, dtype=np.float32)\n",
    "\n",
    "# Create FAISS index\n",
    "index = faiss.IndexFlatL2(document_embeddings.shape[1])\n",
    "index.add(document_embeddings)\n",
    "\n",
    "def retrieve_docs(query: str, top_k: int = 2) -> List[str]:\n",
    "    \"\"\"Retrieve top-k relevant documents for a given query.\"\"\"\n",
    "    query_embedding = embedding_model.encode([query])\n",
    "    query_embedding = np.array(query_embedding, dtype=np.float32)\n",
    "    distances, indices = index.search(query_embedding, top_k)\n",
    "    return [manuals[i] for i in indices[0]]\n",
    "\n",
    "def generate_answer(query: str) -> str:\n",
    "    \"\"\"Retrieve relevant context and use Ollama to generate an answer.\"\"\"\n",
    "    instruction = \"As a bike service expert working in bike service center, your role is to provide accurate answer to questions asked by the rider. Data present in the context part is your knowledge about the bike. Stick to the context to generate the results. And also you can use your knowledge to answer if the required data is not available in context\"\n",
    "    retrieved_docs = retrieve_docs(query)\n",
    "    context = \"\\n\".join(retrieved_docs)\n",
    "    prompt = f\"Context:\\n{context}\\nInstruction: {instruction}\\nQuestion: {query}\\nAnswer:\"\n",
    "    response = ollama.chat(model='mistral', messages=[{\"role\": \"user\", \"content\": prompt}])\n",
    "    return response[\"message\"][\"content\"]\n",
    "\n",
    "# Example query\n",
    "query = \"give some intersting facts about the bike?\"\n",
    "answer = generate_answer(query)\n",
    "print(\"Answer:\", answer)\n"
   ]
  },
  {
   "cell_type": "code",
   "execution_count": null,
   "id": "2abd7869-0609-4eeb-aba8-0f3884f29c41",
   "metadata": {},
   "outputs": [],
   "source": []
  }
 ],
 "metadata": {
  "kernelspec": {
   "display_name": "Python [conda env:base] *",
   "language": "python",
   "name": "conda-base-py"
  },
  "language_info": {
   "codemirror_mode": {
    "name": "ipython",
    "version": 3
   },
   "file_extension": ".py",
   "mimetype": "text/x-python",
   "name": "python",
   "nbconvert_exporter": "python",
   "pygments_lexer": "ipython3",
   "version": "3.12.2"
  }
 },
 "nbformat": 4,
 "nbformat_minor": 5
}
